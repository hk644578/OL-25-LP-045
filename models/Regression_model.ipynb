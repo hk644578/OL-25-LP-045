{
  "nbformat": 4,
  "nbformat_minor": 0,
  "metadata": {
    "colab": {
      "provenance": []
    },
    "kernelspec": {
      "name": "python3",
      "display_name": "Python 3"
    },
    "language_info": {
      "name": "python"
    }
  },
  "cells": [
    {
      "cell_type": "markdown",
      "source": [
        "**Importing Libraries**"
      ],
      "metadata": {
        "id": "v7V8Kfgrsktx"
      }
    },
    {
      "cell_type": "code",
      "execution_count": 123,
      "metadata": {
        "id": "wMPKC7-hrYax"
      },
      "outputs": [],
      "source": [
        "import numpy as np\n",
        "import matplotlib.pyplot as plt\n",
        "import pandas as pd\n",
        "import seaborn as sns\n",
        "import warnings\n",
        "warnings.filterwarnings('ignore')"
      ]
    },
    {
      "cell_type": "code",
      "source": [
        "from sklearn.model_selection import train_test_split, GridSearchCV , cross_val_score\n",
        "from sklearn.pipeline import Pipeline\n",
        "from sklearn.compose import ColumnTransformer\n",
        "from sklearn.impute import SimpleImputer\n",
        "from sklearn.preprocessing import OneHotEncoder, StandardScaler , LabelEncoder , OrdinalEncoder\n",
        "from sklearn.metrics import r2_score, mean_absolute_error, mean_squared_error"
      ],
      "metadata": {
        "id": "ByXKd8Zswm1P"
      },
      "execution_count": 124,
      "outputs": []
    },
    {
      "cell_type": "code",
      "source": [
        "from sklearn.linear_model import LinearRegression\n",
        "from sklearn.ensemble import RandomForestRegressor\n",
        "from xgboost import XGBRegressor"
      ],
      "metadata": {
        "id": "RNkm6uNMYxxw"
      },
      "execution_count": 125,
      "outputs": []
    },
    {
      "cell_type": "markdown",
      "source": [
        "**Importing dataset**"
      ],
      "metadata": {
        "id": "mObQAv67c4kw"
      }
    },
    {
      "cell_type": "code",
      "source": [
        "\n",
        "df=pd.read_csv('cleaned_survey2.csv')\n",
        "df.head()"
      ],
      "metadata": {
        "colab": {
          "base_uri": "https://localhost:8080/",
          "height": 342
        },
        "id": "aOEqhg02uTGp",
        "outputId": "1d954b27-0b2b-47f4-9916-707821dccd9b"
      },
      "execution_count": 126,
      "outputs": [
        {
          "output_type": "execute_result",
          "data": {
            "text/plain": [
              "   Unnamed: 0  Age self_employed family_history treatment work_interfere  \\\n",
              "0           0   37            No             No       Yes          Often   \n",
              "1           1   44            No             No        No         Rarely   \n",
              "2           2   32            No             No        No         Rarely   \n",
              "3           3   31           Yes            Yes       Yes          Often   \n",
              "4           4   31           Yes             No        No          Never   \n",
              "\n",
              "  remote_work tech_company    benefits care_options  ...  \\\n",
              "0          No          Yes         Yes     Not sure  ...   \n",
              "1          No           No  Don't know           No  ...   \n",
              "2          No          Yes          No           No  ...   \n",
              "3          No          Yes          No          Yes  ...   \n",
              "4         Yes          Yes         Yes           No  ...   \n",
              "\n",
              "  mental_health_consequence phys_health_consequence     coworkers supervisor  \\\n",
              "0                        No                      No  Some of them        Yes   \n",
              "1                     Maybe                      No            No         No   \n",
              "2                        No                      No           Yes        Yes   \n",
              "3                       Yes                     Yes  Some of them         No   \n",
              "4                        No                      No  Some of them        Yes   \n",
              "\n",
              "  mental_health_interview phys_health_interview mental_vs_physical  \\\n",
              "0                      No                 Maybe                Yes   \n",
              "1                      No                    No         Don't know   \n",
              "2                     Yes                   Yes                 No   \n",
              "3                   Maybe                 Maybe                 No   \n",
              "4                     Yes                   Yes         Don't know   \n",
              "\n",
              "  obs_consequence Cleaned_Gender no_employees  \n",
              "0              No         Female           15  \n",
              "1              No           Male         1000  \n",
              "2              No           Male           15  \n",
              "3             Yes           Male           63  \n",
              "4              No           Male          300  \n",
              "\n",
              "[5 rows x 24 columns]"
            ],
            "text/html": [
              "\n",
              "  <div id=\"df-d5234dbd-fbc3-4af8-a33e-7f8ad48dd28e\" class=\"colab-df-container\">\n",
              "    <div>\n",
              "<style scoped>\n",
              "    .dataframe tbody tr th:only-of-type {\n",
              "        vertical-align: middle;\n",
              "    }\n",
              "\n",
              "    .dataframe tbody tr th {\n",
              "        vertical-align: top;\n",
              "    }\n",
              "\n",
              "    .dataframe thead th {\n",
              "        text-align: right;\n",
              "    }\n",
              "</style>\n",
              "<table border=\"1\" class=\"dataframe\">\n",
              "  <thead>\n",
              "    <tr style=\"text-align: right;\">\n",
              "      <th></th>\n",
              "      <th>Unnamed: 0</th>\n",
              "      <th>Age</th>\n",
              "      <th>self_employed</th>\n",
              "      <th>family_history</th>\n",
              "      <th>treatment</th>\n",
              "      <th>work_interfere</th>\n",
              "      <th>remote_work</th>\n",
              "      <th>tech_company</th>\n",
              "      <th>benefits</th>\n",
              "      <th>care_options</th>\n",
              "      <th>...</th>\n",
              "      <th>mental_health_consequence</th>\n",
              "      <th>phys_health_consequence</th>\n",
              "      <th>coworkers</th>\n",
              "      <th>supervisor</th>\n",
              "      <th>mental_health_interview</th>\n",
              "      <th>phys_health_interview</th>\n",
              "      <th>mental_vs_physical</th>\n",
              "      <th>obs_consequence</th>\n",
              "      <th>Cleaned_Gender</th>\n",
              "      <th>no_employees</th>\n",
              "    </tr>\n",
              "  </thead>\n",
              "  <tbody>\n",
              "    <tr>\n",
              "      <th>0</th>\n",
              "      <td>0</td>\n",
              "      <td>37</td>\n",
              "      <td>No</td>\n",
              "      <td>No</td>\n",
              "      <td>Yes</td>\n",
              "      <td>Often</td>\n",
              "      <td>No</td>\n",
              "      <td>Yes</td>\n",
              "      <td>Yes</td>\n",
              "      <td>Not sure</td>\n",
              "      <td>...</td>\n",
              "      <td>No</td>\n",
              "      <td>No</td>\n",
              "      <td>Some of them</td>\n",
              "      <td>Yes</td>\n",
              "      <td>No</td>\n",
              "      <td>Maybe</td>\n",
              "      <td>Yes</td>\n",
              "      <td>No</td>\n",
              "      <td>Female</td>\n",
              "      <td>15</td>\n",
              "    </tr>\n",
              "    <tr>\n",
              "      <th>1</th>\n",
              "      <td>1</td>\n",
              "      <td>44</td>\n",
              "      <td>No</td>\n",
              "      <td>No</td>\n",
              "      <td>No</td>\n",
              "      <td>Rarely</td>\n",
              "      <td>No</td>\n",
              "      <td>No</td>\n",
              "      <td>Don't know</td>\n",
              "      <td>No</td>\n",
              "      <td>...</td>\n",
              "      <td>Maybe</td>\n",
              "      <td>No</td>\n",
              "      <td>No</td>\n",
              "      <td>No</td>\n",
              "      <td>No</td>\n",
              "      <td>No</td>\n",
              "      <td>Don't know</td>\n",
              "      <td>No</td>\n",
              "      <td>Male</td>\n",
              "      <td>1000</td>\n",
              "    </tr>\n",
              "    <tr>\n",
              "      <th>2</th>\n",
              "      <td>2</td>\n",
              "      <td>32</td>\n",
              "      <td>No</td>\n",
              "      <td>No</td>\n",
              "      <td>No</td>\n",
              "      <td>Rarely</td>\n",
              "      <td>No</td>\n",
              "      <td>Yes</td>\n",
              "      <td>No</td>\n",
              "      <td>No</td>\n",
              "      <td>...</td>\n",
              "      <td>No</td>\n",
              "      <td>No</td>\n",
              "      <td>Yes</td>\n",
              "      <td>Yes</td>\n",
              "      <td>Yes</td>\n",
              "      <td>Yes</td>\n",
              "      <td>No</td>\n",
              "      <td>No</td>\n",
              "      <td>Male</td>\n",
              "      <td>15</td>\n",
              "    </tr>\n",
              "    <tr>\n",
              "      <th>3</th>\n",
              "      <td>3</td>\n",
              "      <td>31</td>\n",
              "      <td>Yes</td>\n",
              "      <td>Yes</td>\n",
              "      <td>Yes</td>\n",
              "      <td>Often</td>\n",
              "      <td>No</td>\n",
              "      <td>Yes</td>\n",
              "      <td>No</td>\n",
              "      <td>Yes</td>\n",
              "      <td>...</td>\n",
              "      <td>Yes</td>\n",
              "      <td>Yes</td>\n",
              "      <td>Some of them</td>\n",
              "      <td>No</td>\n",
              "      <td>Maybe</td>\n",
              "      <td>Maybe</td>\n",
              "      <td>No</td>\n",
              "      <td>Yes</td>\n",
              "      <td>Male</td>\n",
              "      <td>63</td>\n",
              "    </tr>\n",
              "    <tr>\n",
              "      <th>4</th>\n",
              "      <td>4</td>\n",
              "      <td>31</td>\n",
              "      <td>Yes</td>\n",
              "      <td>No</td>\n",
              "      <td>No</td>\n",
              "      <td>Never</td>\n",
              "      <td>Yes</td>\n",
              "      <td>Yes</td>\n",
              "      <td>Yes</td>\n",
              "      <td>No</td>\n",
              "      <td>...</td>\n",
              "      <td>No</td>\n",
              "      <td>No</td>\n",
              "      <td>Some of them</td>\n",
              "      <td>Yes</td>\n",
              "      <td>Yes</td>\n",
              "      <td>Yes</td>\n",
              "      <td>Don't know</td>\n",
              "      <td>No</td>\n",
              "      <td>Male</td>\n",
              "      <td>300</td>\n",
              "    </tr>\n",
              "  </tbody>\n",
              "</table>\n",
              "<p>5 rows × 24 columns</p>\n",
              "</div>\n",
              "    <div class=\"colab-df-buttons\">\n",
              "\n",
              "  <div class=\"colab-df-container\">\n",
              "    <button class=\"colab-df-convert\" onclick=\"convertToInteractive('df-d5234dbd-fbc3-4af8-a33e-7f8ad48dd28e')\"\n",
              "            title=\"Convert this dataframe to an interactive table.\"\n",
              "            style=\"display:none;\">\n",
              "\n",
              "  <svg xmlns=\"http://www.w3.org/2000/svg\" height=\"24px\" viewBox=\"0 -960 960 960\">\n",
              "    <path d=\"M120-120v-720h720v720H120Zm60-500h600v-160H180v160Zm220 220h160v-160H400v160Zm0 220h160v-160H400v160ZM180-400h160v-160H180v160Zm440 0h160v-160H620v160ZM180-180h160v-160H180v160Zm440 0h160v-160H620v160Z\"/>\n",
              "  </svg>\n",
              "    </button>\n",
              "\n",
              "  <style>\n",
              "    .colab-df-container {\n",
              "      display:flex;\n",
              "      gap: 12px;\n",
              "    }\n",
              "\n",
              "    .colab-df-convert {\n",
              "      background-color: #E8F0FE;\n",
              "      border: none;\n",
              "      border-radius: 50%;\n",
              "      cursor: pointer;\n",
              "      display: none;\n",
              "      fill: #1967D2;\n",
              "      height: 32px;\n",
              "      padding: 0 0 0 0;\n",
              "      width: 32px;\n",
              "    }\n",
              "\n",
              "    .colab-df-convert:hover {\n",
              "      background-color: #E2EBFA;\n",
              "      box-shadow: 0px 1px 2px rgba(60, 64, 67, 0.3), 0px 1px 3px 1px rgba(60, 64, 67, 0.15);\n",
              "      fill: #174EA6;\n",
              "    }\n",
              "\n",
              "    .colab-df-buttons div {\n",
              "      margin-bottom: 4px;\n",
              "    }\n",
              "\n",
              "    [theme=dark] .colab-df-convert {\n",
              "      background-color: #3B4455;\n",
              "      fill: #D2E3FC;\n",
              "    }\n",
              "\n",
              "    [theme=dark] .colab-df-convert:hover {\n",
              "      background-color: #434B5C;\n",
              "      box-shadow: 0px 1px 3px 1px rgba(0, 0, 0, 0.15);\n",
              "      filter: drop-shadow(0px 1px 2px rgba(0, 0, 0, 0.3));\n",
              "      fill: #FFFFFF;\n",
              "    }\n",
              "  </style>\n",
              "\n",
              "    <script>\n",
              "      const buttonEl =\n",
              "        document.querySelector('#df-d5234dbd-fbc3-4af8-a33e-7f8ad48dd28e button.colab-df-convert');\n",
              "      buttonEl.style.display =\n",
              "        google.colab.kernel.accessAllowed ? 'block' : 'none';\n",
              "\n",
              "      async function convertToInteractive(key) {\n",
              "        const element = document.querySelector('#df-d5234dbd-fbc3-4af8-a33e-7f8ad48dd28e');\n",
              "        const dataTable =\n",
              "          await google.colab.kernel.invokeFunction('convertToInteractive',\n",
              "                                                    [key], {});\n",
              "        if (!dataTable) return;\n",
              "\n",
              "        const docLinkHtml = 'Like what you see? Visit the ' +\n",
              "          '<a target=\"_blank\" href=https://colab.research.google.com/notebooks/data_table.ipynb>data table notebook</a>'\n",
              "          + ' to learn more about interactive tables.';\n",
              "        element.innerHTML = '';\n",
              "        dataTable['output_type'] = 'display_data';\n",
              "        await google.colab.output.renderOutput(dataTable, element);\n",
              "        const docLink = document.createElement('div');\n",
              "        docLink.innerHTML = docLinkHtml;\n",
              "        element.appendChild(docLink);\n",
              "      }\n",
              "    </script>\n",
              "  </div>\n",
              "\n",
              "\n",
              "    <div id=\"df-a8413dc6-3367-4a02-b8cc-1e9cf6cf44b6\">\n",
              "      <button class=\"colab-df-quickchart\" onclick=\"quickchart('df-a8413dc6-3367-4a02-b8cc-1e9cf6cf44b6')\"\n",
              "                title=\"Suggest charts\"\n",
              "                style=\"display:none;\">\n",
              "\n",
              "<svg xmlns=\"http://www.w3.org/2000/svg\" height=\"24px\"viewBox=\"0 0 24 24\"\n",
              "     width=\"24px\">\n",
              "    <g>\n",
              "        <path d=\"M19 3H5c-1.1 0-2 .9-2 2v14c0 1.1.9 2 2 2h14c1.1 0 2-.9 2-2V5c0-1.1-.9-2-2-2zM9 17H7v-7h2v7zm4 0h-2V7h2v10zm4 0h-2v-4h2v4z\"/>\n",
              "    </g>\n",
              "</svg>\n",
              "      </button>\n",
              "\n",
              "<style>\n",
              "  .colab-df-quickchart {\n",
              "      --bg-color: #E8F0FE;\n",
              "      --fill-color: #1967D2;\n",
              "      --hover-bg-color: #E2EBFA;\n",
              "      --hover-fill-color: #174EA6;\n",
              "      --disabled-fill-color: #AAA;\n",
              "      --disabled-bg-color: #DDD;\n",
              "  }\n",
              "\n",
              "  [theme=dark] .colab-df-quickchart {\n",
              "      --bg-color: #3B4455;\n",
              "      --fill-color: #D2E3FC;\n",
              "      --hover-bg-color: #434B5C;\n",
              "      --hover-fill-color: #FFFFFF;\n",
              "      --disabled-bg-color: #3B4455;\n",
              "      --disabled-fill-color: #666;\n",
              "  }\n",
              "\n",
              "  .colab-df-quickchart {\n",
              "    background-color: var(--bg-color);\n",
              "    border: none;\n",
              "    border-radius: 50%;\n",
              "    cursor: pointer;\n",
              "    display: none;\n",
              "    fill: var(--fill-color);\n",
              "    height: 32px;\n",
              "    padding: 0;\n",
              "    width: 32px;\n",
              "  }\n",
              "\n",
              "  .colab-df-quickchart:hover {\n",
              "    background-color: var(--hover-bg-color);\n",
              "    box-shadow: 0 1px 2px rgba(60, 64, 67, 0.3), 0 1px 3px 1px rgba(60, 64, 67, 0.15);\n",
              "    fill: var(--button-hover-fill-color);\n",
              "  }\n",
              "\n",
              "  .colab-df-quickchart-complete:disabled,\n",
              "  .colab-df-quickchart-complete:disabled:hover {\n",
              "    background-color: var(--disabled-bg-color);\n",
              "    fill: var(--disabled-fill-color);\n",
              "    box-shadow: none;\n",
              "  }\n",
              "\n",
              "  .colab-df-spinner {\n",
              "    border: 2px solid var(--fill-color);\n",
              "    border-color: transparent;\n",
              "    border-bottom-color: var(--fill-color);\n",
              "    animation:\n",
              "      spin 1s steps(1) infinite;\n",
              "  }\n",
              "\n",
              "  @keyframes spin {\n",
              "    0% {\n",
              "      border-color: transparent;\n",
              "      border-bottom-color: var(--fill-color);\n",
              "      border-left-color: var(--fill-color);\n",
              "    }\n",
              "    20% {\n",
              "      border-color: transparent;\n",
              "      border-left-color: var(--fill-color);\n",
              "      border-top-color: var(--fill-color);\n",
              "    }\n",
              "    30% {\n",
              "      border-color: transparent;\n",
              "      border-left-color: var(--fill-color);\n",
              "      border-top-color: var(--fill-color);\n",
              "      border-right-color: var(--fill-color);\n",
              "    }\n",
              "    40% {\n",
              "      border-color: transparent;\n",
              "      border-right-color: var(--fill-color);\n",
              "      border-top-color: var(--fill-color);\n",
              "    }\n",
              "    60% {\n",
              "      border-color: transparent;\n",
              "      border-right-color: var(--fill-color);\n",
              "    }\n",
              "    80% {\n",
              "      border-color: transparent;\n",
              "      border-right-color: var(--fill-color);\n",
              "      border-bottom-color: var(--fill-color);\n",
              "    }\n",
              "    90% {\n",
              "      border-color: transparent;\n",
              "      border-bottom-color: var(--fill-color);\n",
              "    }\n",
              "  }\n",
              "</style>\n",
              "\n",
              "      <script>\n",
              "        async function quickchart(key) {\n",
              "          const quickchartButtonEl =\n",
              "            document.querySelector('#' + key + ' button');\n",
              "          quickchartButtonEl.disabled = true;  // To prevent multiple clicks.\n",
              "          quickchartButtonEl.classList.add('colab-df-spinner');\n",
              "          try {\n",
              "            const charts = await google.colab.kernel.invokeFunction(\n",
              "                'suggestCharts', [key], {});\n",
              "          } catch (error) {\n",
              "            console.error('Error during call to suggestCharts:', error);\n",
              "          }\n",
              "          quickchartButtonEl.classList.remove('colab-df-spinner');\n",
              "          quickchartButtonEl.classList.add('colab-df-quickchart-complete');\n",
              "        }\n",
              "        (() => {\n",
              "          let quickchartButtonEl =\n",
              "            document.querySelector('#df-a8413dc6-3367-4a02-b8cc-1e9cf6cf44b6 button');\n",
              "          quickchartButtonEl.style.display =\n",
              "            google.colab.kernel.accessAllowed ? 'block' : 'none';\n",
              "        })();\n",
              "      </script>\n",
              "    </div>\n",
              "\n",
              "    </div>\n",
              "  </div>\n"
            ],
            "application/vnd.google.colaboratory.intrinsic+json": {
              "type": "dataframe",
              "variable_name": "df"
            }
          },
          "metadata": {},
          "execution_count": 126
        }
      ]
    },
    {
      "cell_type": "code",
      "source": [
        "df.drop('Unnamed: 0',axis=1,inplace=True)"
      ],
      "metadata": {
        "id": "XMRPPxmhukEZ"
      },
      "execution_count": 127,
      "outputs": []
    },
    {
      "cell_type": "markdown",
      "source": [
        "**Train Test Split**"
      ],
      "metadata": {
        "id": "i9ZVLwaZdBQf"
      }
    },
    {
      "cell_type": "code",
      "source": [
        "X=df.drop('Age',axis=1)\n",
        "y=df['Age']"
      ],
      "metadata": {
        "id": "3DH1crtiw6xz"
      },
      "execution_count": 128,
      "outputs": []
    },
    {
      "cell_type": "code",
      "source": [
        "X_train, X_test, y_train, y_test = train_test_split(X, y, test_size=0.2, random_state=42)"
      ],
      "metadata": {
        "id": "CZFdogDquyuw"
      },
      "execution_count": 129,
      "outputs": []
    },
    {
      "cell_type": "markdown",
      "source": [
        "**preparing for encoding data**"
      ],
      "metadata": {
        "id": "FqPwRH5OdFcv"
      }
    },
    {
      "cell_type": "code",
      "source": [
        "binary=['Yes','No']"
      ],
      "metadata": {
        "id": "x8H6-52L3nLs"
      },
      "execution_count": 130,
      "outputs": []
    },
    {
      "cell_type": "code",
      "source": [
        "work_int=['Often','Sometimes','Rarely','Never','Dont know']"
      ],
      "metadata": {
        "id": "VEh21HRK4KS1"
      },
      "execution_count": 131,
      "outputs": []
    },
    {
      "cell_type": "code",
      "source": [
        "bene=['Yes',\"No\", \"Don't know\"]"
      ],
      "metadata": {
        "id": "C7lFHRiaAoWu"
      },
      "execution_count": 132,
      "outputs": []
    },
    {
      "cell_type": "code",
      "source": [
        "care_opt=['Yes','No','Not sure']"
      ],
      "metadata": {
        "id": "Us_eQuqpBj12"
      },
      "execution_count": 133,
      "outputs": []
    },
    {
      "cell_type": "code",
      "source": [
        "well_pro=['Yes','No',\"Don't know\"]\n",
        "seek=['Yes','No',\"Don't know\"]"
      ],
      "metadata": {
        "id": "x7k4KuOPDVyG"
      },
      "execution_count": 134,
      "outputs": []
    },
    {
      "cell_type": "code",
      "source": [
        "anoy_mity=['Yes','No',\"Don't know\"]\n",
        "ment_vs_phy=['Yes','No',\"Don't know\"]"
      ],
      "metadata": {
        "id": "yxhj55-tDsff"
      },
      "execution_count": 135,
      "outputs": []
    },
    {
      "cell_type": "code",
      "source": [
        "lea_ve=['Very easy','Somewhat easy','Somewhat difficult','Very difficult',\"Don't know\"]"
      ],
      "metadata": {
        "id": "9Twxte2wEFZB"
      },
      "execution_count": 136,
      "outputs": []
    },
    {
      "cell_type": "code",
      "source": [
        "men_hel_cons=['Yes','Maybe','No']\n",
        "phy_hel_cons=['Yes','Maybe','No']"
      ],
      "metadata": {
        "id": "F_8-8L2SE-W_"
      },
      "execution_count": 137,
      "outputs": []
    },
    {
      "cell_type": "code",
      "source": [
        "co_workers=['Yes','Some of them','No']\n",
        "super_visor=['Yes','Some of them','No']"
      ],
      "metadata": {
        "id": "tN8nFZMoFPHG"
      },
      "execution_count": 138,
      "outputs": []
    },
    {
      "cell_type": "code",
      "source": [
        "men_heal_inter=['Yes','Maybe','No']\n",
        "phy_heal_inter=['Yes','Maybe','No']"
      ],
      "metadata": {
        "id": "DVh-h4kQFlqB"
      },
      "execution_count": 139,
      "outputs": []
    },
    {
      "cell_type": "code",
      "source": [
        "cln_gen=['Male','Female']"
      ],
      "metadata": {
        "id": "3ZFofVdWGB08"
      },
      "execution_count": 140,
      "outputs": []
    },
    {
      "cell_type": "code",
      "source": [
        "binary_columns = ['self_employed',\n",
        " 'family_history',\n",
        " 'remote_work',\n",
        " 'tech_company',\n",
        " 'obs_consequence',\n",
        "                  'treatment']\n"
      ],
      "metadata": {
        "id": "-oVPKCL6I3vN"
      },
      "execution_count": 141,
      "outputs": []
    },
    {
      "cell_type": "code",
      "source": [
        "df.columns"
      ],
      "metadata": {
        "colab": {
          "base_uri": "https://localhost:8080/"
        },
        "id": "NekQc9FONanp",
        "outputId": "3b4525d8-029d-422b-9502-6df29661605a"
      },
      "execution_count": 142,
      "outputs": [
        {
          "output_type": "execute_result",
          "data": {
            "text/plain": [
              "Index(['Age', 'self_employed', 'family_history', 'treatment', 'work_interfere',\n",
              "       'remote_work', 'tech_company', 'benefits', 'care_options',\n",
              "       'wellness_program', 'seek_help', 'anonymity', 'leave',\n",
              "       'mental_health_consequence', 'phys_health_consequence', 'coworkers',\n",
              "       'supervisor', 'mental_health_interview', 'phys_health_interview',\n",
              "       'mental_vs_physical', 'obs_consequence', 'Cleaned_Gender',\n",
              "       'no_employees'],\n",
              "      dtype='object')"
            ]
          },
          "metadata": {},
          "execution_count": 142
        }
      ]
    },
    {
      "cell_type": "code",
      "source": [
        "preprocessor=ColumnTransformer(transformers=[('trf1',OrdinalEncoder(categories=[binary] * len(binary_columns)),binary_columns),\n",
        "                                             ('trf2',OrdinalEncoder(categories=[work_int]),[\"work_interfere\"]),\n",
        "                                             ('trf3',OrdinalEncoder(categories=[bene]),[\"benefits\"]),\n",
        "                                             ('trf4',OrdinalEncoder(categories=[care_opt]),[\"care_options\"]),\n",
        "                                             ('trf5',OrdinalEncoder(categories=[well_pro]),[\"wellness_program\"]),\n",
        "                                             ('trf6',OrdinalEncoder(categories=[seek]),[\"seek_help\"]),\n",
        "                                             ('trf7',OrdinalEncoder(categories=[anoy_mity]),[\"anonymity\"]),\n",
        "                                             ('trf8',OrdinalEncoder(categories=[ment_vs_phy]),[\"mental_vs_physical\"]),\n",
        "                                             ('trf9',OrdinalEncoder(categories=[lea_ve]),[\"leave\"]),\n",
        "                                             ('trf10',OrdinalEncoder(categories=[men_hel_cons]),[\"mental_health_consequence\"]),\n",
        "                                             ('trf11',OrdinalEncoder(categories=[phy_hel_cons]),[\"phys_health_consequence\"]),\n",
        "                                             ('trf12',OrdinalEncoder(categories=[co_workers]),[\"coworkers\"]),\n",
        "                                             ('trf13',OrdinalEncoder(categories=[super_visor]),[\"supervisor\"]),\n",
        "                                             ('trf14',OrdinalEncoder(categories=[men_heal_inter]),[\"mental_health_interview\"]),\n",
        "                                             ('trf15',OrdinalEncoder(categories=[phy_heal_inter]),[\"phys_health_interview\"]),\n",
        "                                             ('trf16',OrdinalEncoder(categories=[cln_gen]),[\"Cleaned_Gender\"]),\n",
        "\n",
        "                                             ('trf17',StandardScaler(),['no_employees'])\n",
        "\n",
        "                                             ],remainder='passthrough')"
      ],
      "metadata": {
        "id": "nEpyhEeHGZeR"
      },
      "execution_count": 143,
      "outputs": []
    },
    {
      "cell_type": "code",
      "source": [
        "X_train_encoded=preprocessor.fit_transform(X_train)\n",
        "X_test_encoded=preprocessor.fit_transform(X_test)"
      ],
      "metadata": {
        "id": "uqnUCz2WRxBA"
      },
      "execution_count": 144,
      "outputs": []
    },
    {
      "cell_type": "markdown",
      "source": [
        "**Linear Regression**"
      ],
      "metadata": {
        "id": "2E9ltCTllryw"
      }
    },
    {
      "cell_type": "code",
      "source": [
        "from sklearn.linear_model import LinearRegression\n",
        "lr_model = LinearRegression()\n",
        "lr_model.fit(X_train_encoded, y_train)\n",
        "preds = lr_model.predict(X_test_encoded)\n",
        "print(\"MSE:\", mean_squared_error(y_test, preds))\n",
        "print(\"RMSE:\",np.sqrt(mean_squared_error(y_test, preds)))\n",
        "print(\"R2 Score:\", r2_score(y_test, preds))"
      ],
      "metadata": {
        "colab": {
          "base_uri": "https://localhost:8080/"
        },
        "id": "P2FHCa3DlrfL",
        "outputId": "7c364b3d-f579-46b2-efeb-96837d73175b"
      },
      "execution_count": 145,
      "outputs": [
        {
          "output_type": "stream",
          "name": "stdout",
          "text": [
            "MSE: 41.66017109076887\n",
            "RMSE: 6.454469078922671\n",
            "R2 Score: 0.05108698866536188\n"
          ]
        }
      ]
    },
    {
      "cell_type": "code",
      "source": [
        "import pandas as pd\n",
        "results = []\n",
        "results.append({\n",
        "    'Model': 'Linear Regression',\n",
        "    'MSE': mean_squared_error(y_test, preds),\n",
        "    'RMSE': np.sqrt(mean_squared_error(y_test, preds)),\n",
        "    'R2 Score': r2_score(y_test, preds)\n",
        "})\n"
      ],
      "metadata": {
        "id": "aLbqTWC6pZz1"
      },
      "execution_count": 146,
      "outputs": []
    },
    {
      "cell_type": "markdown",
      "source": [
        "**Ridge Regression**"
      ],
      "metadata": {
        "id": "b1Z-CGFIoh5s"
      }
    },
    {
      "cell_type": "code",
      "source": [
        "from sklearn.linear_model import Ridge\n",
        "\n",
        "ridge = Ridge()\n",
        "param_grid = {'alpha': [0.01, 0.1, 1.0]}\n",
        "grid = GridSearchCV(ridge, param_grid, cv=5, scoring='r2')\n",
        "grid.fit(X_train_encoded, y_train)\n",
        "preds = grid.predict(X_test_encoded)\n",
        "\n",
        "print(\"Best Params:\", grid.best_params_)\n",
        "print(\"MSE:\", mean_squared_error(y_test, preds))\n",
        "print(\"RMSE:\", np.sqrt(mean_squared_error(y_test, preds)))\n",
        "print(\"R2 Score:\", r2_score(y_test, preds))\n"
      ],
      "metadata": {
        "colab": {
          "base_uri": "https://localhost:8080/"
        },
        "id": "ghOTEfSyora-",
        "outputId": "8837e8fd-12a9-4d62-ea97-b68ee6ddc677"
      },
      "execution_count": 147,
      "outputs": [
        {
          "output_type": "stream",
          "name": "stdout",
          "text": [
            "Best Params: {'alpha': 1.0}\n",
            "MSE: 41.64429524479578\n",
            "RMSE: 6.453239128127501\n",
            "R2 Score: 0.05144860016179531\n"
          ]
        }
      ]
    },
    {
      "cell_type": "code",
      "source": [
        "results.append({\n",
        "    'Model': 'Ridge Regression',\n",
        "    'MSE': mean_squared_error(y_test, preds),\n",
        "    'RMSE': np.sqrt(mean_squared_error(y_test, preds)),\n",
        "    'R2 Score': r2_score(y_test, preds)\n",
        "})"
      ],
      "metadata": {
        "id": "Dd02egOLpkQT"
      },
      "execution_count": 148,
      "outputs": []
    },
    {
      "cell_type": "markdown",
      "source": [
        "**Lasso Regression**"
      ],
      "metadata": {
        "id": "qzUpgtDhowZ3"
      }
    },
    {
      "cell_type": "code",
      "source": [
        "from sklearn.linear_model import Lasso\n",
        "\n",
        "lasso = Lasso()\n",
        "param_grid = {'alpha': [0.01, 0.1, 1.0]}\n",
        "grid = GridSearchCV(lasso, param_grid, cv=5, scoring='r2')\n",
        "grid.fit(X_train_encoded, y_train)\n",
        "preds = grid.predict(X_test_encoded)\n",
        "\n",
        "print(\"Best Params:\", grid.best_params_)\n",
        "print(\"MSE:\", mean_squared_error(y_test, preds))\n",
        "print(\"RMSE:\", np.sqrt(mean_squared_error(y_test, preds)))\n",
        "print(\"R2 Score:\", r2_score(y_test, preds))\n"
      ],
      "metadata": {
        "colab": {
          "base_uri": "https://localhost:8080/"
        },
        "id": "R9P-0Hl2oz0y",
        "outputId": "f9cb8458-eb0e-4109-b14b-4b02e19e8c57"
      },
      "execution_count": 149,
      "outputs": [
        {
          "output_type": "stream",
          "name": "stdout",
          "text": [
            "Best Params: {'alpha': 0.01}\n",
            "MSE: 41.583852376893\n",
            "RMSE: 6.448554285798717\n",
            "R2 Score: 0.0528253353573942\n"
          ]
        }
      ]
    },
    {
      "cell_type": "code",
      "source": [
        "results.append({\n",
        "    'Model': 'Lasso Regression',\n",
        "    'MSE': mean_squared_error(y_test, preds),\n",
        "    'RMSE': np.sqrt(mean_squared_error(y_test, preds)),\n",
        "    'R2 Score': r2_score(y_test, preds)\n",
        "})"
      ],
      "metadata": {
        "id": "J-ABpRnWplwo"
      },
      "execution_count": 150,
      "outputs": []
    },
    {
      "cell_type": "markdown",
      "source": [
        "**Decision Tree Regressor**"
      ],
      "metadata": {
        "id": "4jL8rYg8o4ky"
      }
    },
    {
      "cell_type": "code",
      "source": [
        "from sklearn.tree import DecisionTreeRegressor\n",
        "\n",
        "tree = DecisionTreeRegressor()\n",
        "param_grid = {\n",
        "    'max_depth': [3, 5, 10],\n",
        "    'min_samples_split': [2, 5, 10],\n",
        "    'min_samples_leaf': [1, 2, 4]\n",
        "}\n",
        "grid = GridSearchCV(tree, param_grid, cv=5, scoring='r2')\n",
        "grid.fit(X_train_encoded, y_train)\n",
        "preds = grid.predict(X_test_encoded)\n",
        "\n",
        "print(\"Best Params:\", grid.best_params_)\n",
        "print(\"MSE:\", mean_squared_error(y_test, preds))\n",
        "print(\"RMSE:\", np.sqrt(mean_squared_error(y_test, preds)))\n",
        "print(\"R2 Score:\", r2_score(y_test, preds))\n"
      ],
      "metadata": {
        "colab": {
          "base_uri": "https://localhost:8080/"
        },
        "id": "2xxSgEU7o8-R",
        "outputId": "bb923653-4aec-46ca-c6db-0965a5584c4e"
      },
      "execution_count": 151,
      "outputs": [
        {
          "output_type": "stream",
          "name": "stdout",
          "text": [
            "Best Params: {'max_depth': 3, 'min_samples_leaf': 1, 'min_samples_split': 2}\n",
            "MSE: 44.568474064983114\n",
            "RMSE: 6.675962407397387\n",
            "R2 Score: -0.01515677512337188\n"
          ]
        }
      ]
    },
    {
      "cell_type": "code",
      "source": [
        "results.append({\n",
        "    'Model': 'Decision Tree',\n",
        "    'MSE': mean_squared_error(y_test, preds),\n",
        "    'RMSE': np.sqrt(mean_squared_error(y_test, preds)),\n",
        "    'R2 Score': r2_score(y_test, preds)\n",
        "})"
      ],
      "metadata": {
        "id": "KFyJAMIwpp5f"
      },
      "execution_count": 152,
      "outputs": []
    },
    {
      "cell_type": "markdown",
      "source": [
        "**Random Forest Regressor**"
      ],
      "metadata": {
        "id": "hI7LUEk4niO_"
      }
    },
    {
      "cell_type": "code",
      "source": [
        "from sklearn.ensemble import RandomForestRegressor\n",
        "\n",
        "rf = RandomForestRegressor()\n",
        "param_grid = {\n",
        "    'n_estimators': [100, 200],\n",
        "    'max_depth': [5, 10],\n",
        "    'min_samples_split': [2, 5]\n",
        "}\n",
        "grid = GridSearchCV(rf, param_grid, cv=5, scoring='r2', verbose=0)\n",
        "grid.fit(X_train_encoded, y_train)\n",
        "preds = grid.predict(X_test_encoded)\n",
        "\n",
        "print(\"Best Params:\", grid.best_params_)\n",
        "print(\"MSE:\", mean_squared_error(y_test, preds))\n",
        "print(\"RMSE:\", np.sqrt(mean_squared_error(y_test, preds)))\n",
        "print(\"R2 Score:\", r2_score(y_test, preds))"
      ],
      "metadata": {
        "colab": {
          "base_uri": "https://localhost:8080/"
        },
        "id": "K1RjnJJ4my_n",
        "outputId": "8721c7c7-379d-4d40-e66d-bf95b0350001"
      },
      "execution_count": 153,
      "outputs": [
        {
          "output_type": "stream",
          "name": "stdout",
          "text": [
            "Best Params: {'max_depth': 5, 'min_samples_split': 2, 'n_estimators': 100}\n",
            "MSE: 42.87626772392533\n",
            "RMSE: 6.547997229987604\n",
            "R2 Score: 0.02338739243163168\n"
          ]
        }
      ]
    },
    {
      "cell_type": "code",
      "source": [
        "results.append({\n",
        "    'Model': 'Random Forest',\n",
        "    'MSE': mean_squared_error(y_test, preds),\n",
        "    'RMSE': np.sqrt(mean_squared_error(y_test, preds)),\n",
        "    'R2 Score': r2_score(y_test, preds)\n",
        "})"
      ],
      "metadata": {
        "id": "_vYw5xHwptau"
      },
      "execution_count": 154,
      "outputs": []
    },
    {
      "cell_type": "markdown",
      "source": [
        "XGBoost Regressor"
      ],
      "metadata": {
        "id": "qVMxKk12n3fe"
      }
    },
    {
      "cell_type": "code",
      "source": [
        "from xgboost import XGBRegressor\n",
        "\n",
        "xgb = XGBRegressor(objective='reg:squarederror', eval_metric='rmse')\n",
        "param_grid = {\n",
        "    'n_estimators': [100, 200],\n",
        "    'learning_rate': [0.05, 0.1],\n",
        "    'max_depth': [3, 5]\n",
        "}\n",
        "grid = GridSearchCV(xgb, param_grid, cv=5, scoring='r2')\n",
        "grid.fit(X_train_encoded, y_train)\n",
        "preds = grid.predict(X_test_encoded)\n",
        "\n",
        "print(\"Best Params:\", grid.best_params_)\n",
        "print(\"MSE:\", mean_squared_error(y_test, preds))\n",
        "print(\"RMSE:\", np.sqrt(mean_squared_error(y_test, preds)))\n",
        "print(\"R2 Score:\", r2_score(y_test, preds))"
      ],
      "metadata": {
        "colab": {
          "base_uri": "https://localhost:8080/"
        },
        "id": "P_860dyqnmvE",
        "outputId": "4a286ea3-3303-427c-aeb5-6a31763c3add"
      },
      "execution_count": 155,
      "outputs": [
        {
          "output_type": "stream",
          "name": "stdout",
          "text": [
            "Best Params: {'learning_rate': 0.05, 'max_depth': 3, 'n_estimators': 100}\n",
            "MSE: 41.942684173583984\n",
            "RMSE: 6.476317176728143\n",
            "R2 Score: 0.04465204477310181\n"
          ]
        }
      ]
    },
    {
      "cell_type": "code",
      "source": [
        "results.append({\n",
        "    'Model': 'XGBoost',\n",
        "    'MSE': mean_squared_error(y_test, preds),\n",
        "    'RMSE': np.sqrt(mean_squared_error(y_test, preds)),\n",
        "    'R2 Score': r2_score(y_test, preds)\n",
        "})"
      ],
      "metadata": {
        "id": "djXRvKtxpx1D"
      },
      "execution_count": 156,
      "outputs": []
    },
    {
      "cell_type": "markdown",
      "source": [
        "**Comparison**"
      ],
      "metadata": {
        "id": "ZN4zJ2yap18K"
      }
    },
    {
      "cell_type": "code",
      "source": [
        "results_df = pd.DataFrame(results)\n",
        "print(results_df.sort_values(by=\"R2 Score\", ascending=False))"
      ],
      "metadata": {
        "colab": {
          "base_uri": "https://localhost:8080/"
        },
        "id": "Wp08JcC_n7j-",
        "outputId": "e4fd60f6-9c6d-4b60-eede-83435489e3a3"
      },
      "execution_count": 157,
      "outputs": [
        {
          "output_type": "stream",
          "name": "stdout",
          "text": [
            "               Model        MSE      RMSE  R2 Score\n",
            "2   Lasso Regression  41.583852  6.448554  0.052825\n",
            "1   Ridge Regression  41.644295  6.453239  0.051449\n",
            "0  Linear Regression  41.660171  6.454469  0.051087\n",
            "5            XGBoost  41.942684  6.476317  0.044652\n",
            "4      Random Forest  42.876268  6.547997  0.023387\n",
            "3      Decision Tree  44.568474  6.675962 -0.015157\n"
          ]
        }
      ]
    }
  ]
}